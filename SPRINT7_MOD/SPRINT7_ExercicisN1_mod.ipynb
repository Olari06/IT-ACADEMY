{
 "cells": [
  {
   "cell_type": "markdown",
   "metadata": {},
   "source": [
    "## SPRINT 7\n",
    "#### NIVELL 1 \n",
    "##### EXERCICI 1\n",
    "Calculadora de l'índex de massa corporal\n",
    "Escriu una funció que calculi l'IMC ingressat per l'usuari/ària, és a dir, qui ho executi haurà d'ingressar aquestes dades. \n",
    "La funció ha de classificar el resultat en les seves respectives categories"
   ]
  },
  {
   "cell_type": "markdown",
   "metadata": {},
   "source": [
    "##### RESPUESTA  <br> \n",
    "Primero, hago una función para calcular el IMC, con el peso y la altura en centímetros como argumentos.\n",
    "Luego hago la conversión de la altura a metros para poder calcular el IMC.\n",
    "Y clasifico los resultados en rangos según se estipula por su IMC.\n",
    "Para finalizar esta parte, llamo al resultado de la función, incluyendo un texto con f\"  \"\n",
    "Segundo, con input hago las preguntas que se van a almacenar en variables numericas del peso y la altura.\n",
    "He usado las expresiones try y except para controlar los errores que se pueden\n",
    "producir al introducir las variables peso y altura_cm.\n",
    "Con el try asignamos los valores de peso y altura, y si son correctos, da el resultado de la función calculo_imc. \n",
    "Pero si no son correctos, el except muestra el mensaje de error para que se introcuzcan números."
   ]
  },
  {
   "cell_type": "code",
   "execution_count": 8,
   "metadata": {},
   "outputs": [
    {
     "name": "stdout",
     "output_type": "stream",
     "text": [
      "Por favor, introduzca los datos con números\n"
     ]
    }
   ],
   "source": [
    "\n",
    "def calculo_imc(peso1, altura_cm1):\n",
    "    altura_m = altura_cm1 / 100\n",
    "    IMC = round(peso1 / (altura_m **2),2)\n",
    "\n",
    "    if IMC < 18.5:\n",
    "        rango = \"bajo peso\"\n",
    "    elif IMC < 25:\n",
    "        rango = \"peso normal\"\n",
    "    elif IMC < 30:\n",
    "        rango = \"tienes sobrepeso\"\n",
    "    else:\n",
    "        rango = \"eres obeso\"\n",
    "    return f\"Tienes un IMC de {IMC}. Tu condición es de: {rango}.\"\n",
    "try:\n",
    "    peso = input(\"¿Cual es tu peso en quilogramos?\")\n",
    "    altura_cm = input(\"¿Cual es tu altura en centimeros\")\n",
    "    peso1 = float(peso.replace(\",\",\".\"))\n",
    "    altura_cm1 = float(altura_cm.replace(\",\",\".\"))\n",
    "\n",
    "    resultado = calculo_imc(peso1,altura_cm1)\n",
    "    print(resultado)\n",
    "except ValueError:\n",
    "    print(\"Por favor, introduzca los datos con números.\")\n"
   ]
  },
  {
   "cell_type": "markdown",
   "metadata": {},
   "source": [
    "##### EXERCICI 2 \n",
    "Convertidor de temperatures.  <br> \n",
    "Existeixen diverses unitats de temperatura utilitzades en diferents contextos i regions. Les més comunes són Celsius (°C), Fahrenheit (°F) i Kelvin (K). També existeixen altres unitats com Rankine (°Ra) i Réaumur (°Re). Selecciona almenys 2 conversors, de tal manera que en introduir una temperatura retorni, com a mínim, dues conversions."
   ]
  },
  {
   "cell_type": "markdown",
   "metadata": {},
   "source": [
    "##### RESPUESTA  <br> \n",
    "Para hacer la conversión de Celsius a Farenheit y a Kelvin voy a usar una función,\n",
    "que calcule el valor de celsius a farenheit y a kelvin en 2 variables, para luego dar el resultado en un texto, con f\"  \", de los tres valores de temperatura.\n",
    "Uso las expresiones try y except para controlar los errores que se pueden producir\n",
    "al introducir la variable que solicito con in imput: la temperatura en grados centígrados (nombre común de la escala Celsius).\n",
    "Y para evitar errores al obtener la temperatura con decimales, uso el .replce\n",
    "para cambiar la coma por un punto.\n",
    "De forma que solo de error si no han facilitado un numero."
   ]
  },
  {
   "cell_type": "code",
   "execution_count": 13,
   "metadata": {},
   "outputs": [
    {
     "name": "stdout",
     "output_type": "stream",
     "text": [
      "Introduzca los datos con números\n"
     ]
    }
   ],
   "source": [
    "def temperatura(Celsius1):   \n",
    "    Farenheit = round((Celsius1*1.8)+32,2)\n",
    "    Kelvin = round(Celsius1 + 273.15,2)\n",
    "    return f\"{Celsius1} ºC son: {Farenheit} grados ºF y {Kelvin} grados ºK\"\n",
    "try:\n",
    "    Celsius = input(\"Indica la tempreatura en centigrados (ºC):\")\n",
    "    Celsius1 = float(Celsius.replace(\",\",\".\"))\n",
    "    print(temperatura(Celsius1))\n",
    "except ValueError:\n",
    "    print(\"Introduzca los datos con números\")"
   ]
  },
  {
   "cell_type": "markdown",
   "metadata": {},
   "source": [
    "##### EXERCICI 3: \n",
    "Comptador de paraules d'un text.\n",
    "Escriu una funció que donat un text, mostri les vegades que apareix cada paraula."
   ]
  },
  {
   "cell_type": "markdown",
   "metadata": {},
   "source": [
    "##### RESPUESTA  <br> \n",
    "Primero definimos la función para contar las palabras con def. Luego pedimos el texto que vamos\n",
    "a contar, y lo mostramos con un print.\n",
    "Ahora dividimos el texto en palabras con .split() y creamos un dicionario donde guardaremos\n",
    "estas palabras como clave y asignaremos un valor que será el recuento.\n",
    "Para hacer esto, usamos una función de bucle for, para releer la cadena de palabras ya separadas, \n",
    "y contar las palabras con una condicion if ... else: para ver si están repetidas o no . \n",
    "Pero primero tenemos que quitar de la lista de palabras ya separadas los signos de puntiación (\",.;:!?\") \n",
    "y ponerlas todas en minúsculas .lower(), poque python distingue entre mayúsculas y minúsculas.\n",
    "Si está repetida la palabra (+=1) se almacena este recuento como valor de esa palabra en el diccionario\n",
    "Palabras, y si no está repetida se almacena con valor (=1).\n",
    "El resultado de la función for se guardará en el diccionario Palabras. \n",
    "Para finalizar imprimimos la función contar_palabras()"
   ]
  },
  {
   "cell_type": "code",
   "execution_count": 41,
   "metadata": {},
   "outputs": [
    {
     "name": "stdout",
     "output_type": "stream",
     "text": [
      "El texto que ha escrito es: La casa azul es muy bonita, pero la casa roja me gusta más. A ti que casa te gusta más?\n",
      "Listado de palabras y recuento: {'la': 2, 'casa': 3, 'azul': 1, 'es': 1, 'muy': 1, 'bonita': 1, 'pero': 1, 'roja': 1, 'me': 1, 'gusta': 2, 'más': 2, 'a': 1, 'ti': 1, 'que': 1, 'te': 1}\n"
     ]
    }
   ],
   "source": [
    "def contar_palabras():\n",
    "    Texto = input(\"Escribe aquí el texto: \")\n",
    "    print(f\"El texto que ha escrito es: {Texto}\")\n",
    "\n",
    "    num_palabras = Texto.split()\n",
    "    Palabras = {}\n",
    "\n",
    "    for minusculas in num_palabras:\n",
    "        minusculas = minusculas.strip(\",.;:!?\").lower()\n",
    "\n",
    "        if minusculas in Palabras:\n",
    "            Palabras[minusculas] += 1\n",
    "        else:\n",
    "            Palabras[minusculas] = 1\n",
    "    return Palabras\n",
    "\n",
    "print(\"Listado de palabras y recuento:\", contar_palabras())"
   ]
  },
  {
   "cell_type": "markdown",
   "metadata": {},
   "source": [
    "##### EXERCICI 4: \n",
    "Diccionari invers.  <br> \n",
    "Resulta que el client té una enquesta molt antiga que s'emmagatzema en un diccionari i els resultats els necessita al revés, és a dir, intercanviats les claus i els valors. Els valors i claus en el diccionari original són únics; si aquest no és el cas, la funció hauria d'imprimir un missatge d'advertiment.\n"
   ]
  },
  {
   "cell_type": "markdown",
   "metadata": {},
   "source": [
    "##### RESPUESTA  <br> \n",
    "Primero definimos la función para invertir la clave y el valor de un diccionario con una funcion def.\n",
    "Esta función revisa si hay valores repetidos con un bucle for, ya que lo que antes era un valor ahora va a\n",
    "ser una clave, y esta no puede estar repetida en un diccionario de python.\n",
    "Si hay valores repetidos, dará el mensaje de \"Error: Muchas claves para un valor\".\n",
    "Si no está repetido se almacena en el diccionario nuevos_datos, considerando ahora el valor como \n",
    "la clave (por eso la importancia de que no esté repetida)."
   ]
  },
  {
   "cell_type": "code",
   "execution_count": 97,
   "metadata": {},
   "outputs": [],
   "source": [
    "def diccionario_inv(enquesta_antigua):\n",
    "    nuevos_datos = {}\n",
    "    for clave, valor in enquesta_antigua.items():\n",
    "        if valor in nuevos_datos:\n",
    "            print(\"Error: Muchas claves para un valor\")\n",
    "            return\n",
    "        nuevos_datos[valor] = clave\n",
    "    return nuevos_datos\n"
   ]
  },
  {
   "cell_type": "markdown",
   "metadata": {},
   "source": [
    "Probamos con datos que no tiene valores repetidos para ver que funciona:"
   ]
  },
  {
   "cell_type": "code",
   "execution_count": 98,
   "metadata": {},
   "outputs": [
    {
     "data": {
      "text/plain": [
       "{1: 'a', 2: 'b', 3: 'c', 4: 'd', 5: 'e', 6: 'f', 7: 'g'}"
      ]
     },
     "execution_count": 98,
     "metadata": {},
     "output_type": "execute_result"
    }
   ],
   "source": [
    "diccionario_inv({\"a\":1, \"b\":2, \"c\":3, \"d\":4, \"e\":5, \"f\":6, \"g\":7})\n"
   ]
  },
  {
   "cell_type": "markdown",
   "metadata": {},
   "source": [
    "Y tambien probamos con datos que tiene valores duplicados, para ver si nos da el error indicado:"
   ]
  },
  {
   "cell_type": "code",
   "execution_count": 99,
   "metadata": {},
   "outputs": [
    {
     "name": "stdout",
     "output_type": "stream",
     "text": [
      "Error: Muchas claves para un valor\n"
     ]
    }
   ],
   "source": [
    "diccionario_inv({\"x\":\"apple\", \"y\":\"banana\", \"z\":\"banana\"})"
   ]
  }
 ],
 "metadata": {
  "kernelspec": {
   "display_name": "Python 3",
   "language": "python",
   "name": "python3"
  },
  "language_info": {
   "codemirror_mode": {
    "name": "ipython",
    "version": 3
   },
   "file_extension": ".py",
   "mimetype": "text/x-python",
   "name": "python",
   "nbconvert_exporter": "python",
   "pygments_lexer": "ipython3",
   "version": "3.12.5"
  }
 },
 "nbformat": 4,
 "nbformat_minor": 2
}
