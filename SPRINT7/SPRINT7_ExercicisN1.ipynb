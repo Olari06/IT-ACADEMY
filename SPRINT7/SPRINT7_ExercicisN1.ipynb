{
 "cells": [
  {
   "cell_type": "markdown",
   "metadata": {},
   "source": [
    "NIVELL 1 "
   ]
  },
  {
   "cell_type": "markdown",
   "metadata": {},
   "source": [
    "EXERCICI 1\n",
    "Calculadora de l'índex de massa corporal\n",
    "Escriu una funció que calculi l'IMC ingressat per l'usuari/ària, és a dir, qui ho executi haurà d'ingressar aquestes dades. \n",
    "La funció ha de classificar el resultat en les seves respectives categories"
   ]
  },
  {
   "cell_type": "markdown",
   "metadata": {},
   "source": [
    "Primero: hago una función para calcular el IMC, con el peso y la altura en centímetros como argumentos.\n",
    "Luego hago la conversión de la altura a metros para poder calcular el IMC.\n",
    "Y clasifico los resultados en rangos según se estipula por su IMC.\n",
    "Para finalizar esta parte, llamo al resultado de la función, incluyendo un texto con f\"  \"\n",
    "Segundo: con input hago las preguntas que se van a almacenar en variables numericas del peso y la altura.\n",
    "He usado las epresones try y except para controlar los errores que se pueden\n",
    "producir al introducir las variables peso y altura_cm.\n",
    "Con el try asignamos los valores de peso y altura, y si son correctos, da el resultado de la función calculo_imc. \n",
    "Pero si no son correctos, el except muestra el mensaje de error para que se introcuzcan números."
   ]
  },
  {
   "cell_type": "code",
   "execution_count": 5,
   "metadata": {},
   "outputs": [
    {
     "name": "stdout",
     "output_type": "stream",
     "text": [
      "Introduzca los datos con números\n"
     ]
    }
   ],
   "source": [
    "\n",
    "def calculo_imc(peso, altura_cm):\n",
    "    altura_m = altura_cm / 100\n",
    "    IMC = round(peso / (altura_m **2),2)\n",
    "\n",
    "    if IMC < 18.5:\n",
    "        rango = \"bajo peso\"\n",
    "    elif IMC < 25:\n",
    "        rango = \"peso normal\"\n",
    "    elif IMC < 30:\n",
    "        rango = \"tienes sobrepeso\"\n",
    "    else:\n",
    "        rango = \"eres obeso\"\n",
    "\n",
    "    return f\"Tienes un IMC de {IMC}. Tu condición es de: {rango}.\"\n",
    "\n",
    "try:\n",
    "    peso = float(input(\"¿Cual es tu peso en quilogramos?\"))\n",
    "    altura_cm = float(input(\"¿Cual es tu altura en centimeros\"))\n",
    "    \n",
    "    resultado = calculo_imc(peso,altura_cm)\n",
    "    print(resultado)\n",
    "    \n",
    "except ValueError:\n",
    "    print(\"Introduzca los datos con números y decimales con punto\")\n"
   ]
  },
  {
   "cell_type": "markdown",
   "metadata": {},
   "source": [
    "Esto mismo se puede hacer sin las expresiones try exepct, pero si hay error\n",
    "sale el mensaje del sistema \"ValueError\" como si hubiera un error en el\n",
    "código de python."
   ]
  },
  {
   "cell_type": "code",
   "execution_count": 36,
   "metadata": {},
   "outputs": [],
   "source": [
    "\n",
    "def calculo_imc(peso, altura_cm):\n",
    "    altura_m = altura_cm / 100\n",
    "    IMC = round(peso / (altura_m **2),2)\n",
    "\n",
    "    if IMC < 18.5:\n",
    "        rango = \"bajo peso\"\n",
    "    elif IMC < 25:\n",
    "        rango = \"peso normal\"\n",
    "    elif IMC < 30:\n",
    "        rango = \"tienes sobrepeso\"\n",
    "    else:\n",
    "        rango = \"eres obeso\"\n",
    "\n",
    "    return f\"Tienes un IMC de {IMC}. Tu condición es de: {rango}.\"\n"
   ]
  },
  {
   "cell_type": "code",
   "execution_count": 38,
   "metadata": {},
   "outputs": [
    {
     "name": "stdout",
     "output_type": "stream",
     "text": [
      "Tienes un IMC de 27.25. Tu condición es de: tienes sobrepeso.\n"
     ]
    }
   ],
   "source": [
    "\n",
    "\n",
    "peso = float(input(\"¿Cual es tu peso en quilogramos?\"))\n",
    "altura_cm = float(input(\"¿Cual es tu altura en centimeros\"))\n",
    "    \n",
    "resultado = calculo_imc(peso,altura_cm)\n",
    "print(resultado)\n"
   ]
  },
  {
   "cell_type": "markdown",
   "metadata": {},
   "source": [
    "EXERCICI 2 Convertidor de temperatures.\n",
    "Existeixen diverses unitats de temperatura utilitzades en diferents contextos i regions. Les més comunes són Celsius (°C), Fahrenheit (°F) i Kelvin (K). També existeixen altres unitats com Rankine (°Ra) i Réaumur (°Re). Selecciona almenys 2 conversors, de tal manera que en introduir una temperatura retorni, com a mínim, dues conversions."
   ]
  },
  {
   "cell_type": "markdown",
   "metadata": {},
   "source": [
    "Voy a hacer la conversión de Celsius a Farenheit y a Kelvin. \n",
    "Primero, con input pido la temperatura en grados centígrados (nombre común de la escala Celsius).\n",
    "Luego calculo el valor en farenheit y en kelvin en 2 variables, para luego dar el resultado\n",
    "entre un texto, con f\"  \", de los tres valores de temperatura.\n",
    "Esta primera parte va dentro de un try, por si da error, para que avise con except.\n"
   ]
  },
  {
   "cell_type": "code",
   "execution_count": 39,
   "metadata": {},
   "outputs": [
    {
     "name": "stdout",
     "output_type": "stream",
     "text": [
      "10.0 ºC son:\n",
      "50.0 grados ºF\n",
      "283.15 grados ºK\n"
     ]
    }
   ],
   "source": [
    "try:\n",
    "    Celsius = float(input(\"Indica la tempreatura en centigrados (ºC):\"))\n",
    "    Farenheit = round((Celsius*1.8)+32,2)\n",
    "    Kelvin = round(Celsius + 273.15,2)\n",
    "    print(f\"{Celsius} ºC son:\")\n",
    "    print(f\"{Farenheit} grados ºF\")\n",
    "    print(f\"{Kelvin} grados ºK\")\n",
    "except ValueError:\n",
    "    print(\"Introduzca los datos con números\")"
   ]
  },
  {
   "cell_type": "markdown",
   "metadata": {},
   "source": [
    "También se puede hacer usando una función:"
   ]
  },
  {
   "cell_type": "code",
   "execution_count": 1,
   "metadata": {},
   "outputs": [
    {
     "name": "stdout",
     "output_type": "stream",
     "text": [
      "20.0 ºC son: 68.0 grados ºF y 293.15 grados ºK\n"
     ]
    }
   ],
   "source": [
    "def temperatura(Celsius):   \n",
    "    Farenheit = round((Celsius*1.8)+32,2)\n",
    "    Kelvin = round(Celsius + 273.15,2)\n",
    "    return f\"{Celsius} ºC son: {Farenheit} grados ºF y {Kelvin} grados ºK\"\n",
    "\n",
    "Celsius = float(input(\"Indica la tempreatura en centigrados (ºC):\"))\n",
    "\n",
    "print(temperatura(Celsius))"
   ]
  },
  {
   "cell_type": "markdown",
   "metadata": {},
   "source": [
    "EXERCICI 3: Comptador de paraules d'un text.\n",
    "Escriu una funció que donat un text, mostri les vegades que apareix cada paraula."
   ]
  },
  {
   "cell_type": "markdown",
   "metadata": {},
   "source": [
    "Primero definimos la función para contar las palabras con def. Luego pedimos el texto que vamos\n",
    "a contar, y lo mostramos con un print.\n",
    "Ahora dividimos el texto en palabras con .split() y creamos un dicionario donde guardaremos\n",
    "estas palabras como clave y asignaremos un valor que será el recuento.\n",
    "Para hacer esto, usamos una función de bucle for, para releer la cadena de palabras ya separadas, \n",
    "y contar las palabras con una condicion if ... else: para ver si están repetidas o no . \n",
    "Pero primero tenemos que quitar de la lista de palabras ya separadas los signos de puntiación (\",.;:!?\") \n",
    "y ponerlas todas en minúsculas .lower(), poque python distingue entre mayúsculas y minúsculas.\n",
    "Si está repetida la palabra (+=1) se almacena este recuento como valor de esa palabra en el diccionario\n",
    "Palabras, y si no está repetida se almacena con valor (=1).\n",
    "El resultado de la función for se guardará en el diccionario Palabras. \n",
    "Para finalizar imprimimos la función contar_palabras()"
   ]
  },
  {
   "cell_type": "code",
   "execution_count": 41,
   "metadata": {},
   "outputs": [
    {
     "name": "stdout",
     "output_type": "stream",
     "text": [
      "El texto que ha escrito es: La casa azul es muy bonita, pero la casa roja me gusta más. A ti que casa te gusta más?\n",
      "Listado de palabras y recuento: {'la': 2, 'casa': 3, 'azul': 1, 'es': 1, 'muy': 1, 'bonita': 1, 'pero': 1, 'roja': 1, 'me': 1, 'gusta': 2, 'más': 2, 'a': 1, 'ti': 1, 'que': 1, 'te': 1}\n"
     ]
    }
   ],
   "source": [
    "def contar_palabras():\n",
    "    Texto = input(\"Escribe aquí el texto: \")\n",
    "    print(f\"El texto que ha escrito es: {Texto}\")\n",
    "\n",
    "    num_palabras = Texto.split()\n",
    "    Palabras = {}\n",
    "\n",
    "    for minusculas in num_palabras:\n",
    "        minusculas = minusculas.strip(\",.;:!?\").lower()\n",
    "\n",
    "        if minusculas in Palabras:\n",
    "            Palabras[minusculas] += 1\n",
    "        else:\n",
    "            Palabras[minusculas] = 1\n",
    "    return Palabras\n",
    "\n",
    "print(\"Listado de palabras y recuento:\", contar_palabras())"
   ]
  },
  {
   "cell_type": "markdown",
   "metadata": {},
   "source": [
    "Exercici 4: Diccionari invers.\n",
    "Resulta que el client té una enquesta molt antiga que s'emmagatzema en un diccionari i els resultats els necessita al revés, és a dir, intercanviats les claus i els valors. Els valors i claus en el diccionari original són únics; si aquest no és el cas, la funció hauria d'imprimir un missatge d'advertiment.\n"
   ]
  },
  {
   "cell_type": "markdown",
   "metadata": {},
   "source": [
    "Primero definimos la función para invertir la clave y el valor de un diccionario con una funcion def\n",
    "Esta función revisa si hay valores repetidos con un bucle for, ya que lo que antes era un valor ahora va a\n",
    "ser una clave, y esta no puede estar repetida en un diccionario de python.\n",
    "Si hay valores repetidos, dará el mensaje de \"Error: Muchas claves para un valor\" y el resultado será None\n",
    "Si no está repetido se almacena en el diccionario nuevos_datos, considerando ahora el valor como \n",
    "la clave (por eso la importancia de que no esté repetida).\n",
    "Probamos con diccionario_antiguo que no tiene valores repetidos para ver que funciona.\n",
    "Y tambien probamos con diccionario_duplicado que tiene valores duplicados, para ver si nos da el error\n",
    "indicado, y no nos devuelve el diccionario, sino None."
   ]
  },
  {
   "cell_type": "code",
   "execution_count": 6,
   "metadata": {},
   "outputs": [
    {
     "name": "stdout",
     "output_type": "stream",
     "text": [
      "{1: 'a', 2: 'b', 3: 'c', 4: 'd', 5: 'e'}\n",
      "Error: Muchas claves para un valor\n",
      "None\n"
     ]
    }
   ],
   "source": [
    "def diccionario_inv(enquesta_antigua):\n",
    "    nuevos_datos = {}\n",
    "    for clave, valor in enquesta_antigua.items():\n",
    "        if valor in nuevos_datos:\n",
    "            return print(\"Error: Muchas claves para un valor\")\n",
    "        nuevos_datos[valor] = clave\n",
    "    return nuevos_datos\n",
    "      \n",
    "diccionario_antiguo = {\"a\":1, \"b\":2, \"c\":3, \"d\":4, \"e\":5}\n",
    "resultado1 = diccionario_inv(diccionario_antiguo)\n",
    "print(resultado1)\n",
    "\n",
    "diccionario_duplicado = {\"x\":\"apple\", \"y\":\"banana\", \"z\":\"banana\"}\n",
    "resultado2 = diccionario_inv(diccionario_duplicado)\n",
    "print(resultado2)\n"
   ]
  }
 ],
 "metadata": {
  "kernelspec": {
   "display_name": "Python 3",
   "language": "python",
   "name": "python3"
  },
  "language_info": {
   "codemirror_mode": {
    "name": "ipython",
    "version": 3
   },
   "file_extension": ".py",
   "mimetype": "text/x-python",
   "name": "python",
   "nbconvert_exporter": "python",
   "pygments_lexer": "ipython3",
   "version": "3.12.5"
  }
 },
 "nbformat": 4,
 "nbformat_minor": 2
}
