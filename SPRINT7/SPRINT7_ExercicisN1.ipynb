{
 "cells": [
  {
   "cell_type": "markdown",
   "metadata": {},
   "source": [
    "NIVELL 1 "
   ]
  },
  {
   "cell_type": "markdown",
   "metadata": {},
   "source": [
    "EXERCICI 1\n",
    "Calculadora de l'índex de massa corporal\n",
    "Escriu una funció que calculi l'IMC ingressat per l'usuari/ària, és a dir, qui ho executi haurà d'ingressar aquestes dades. \n",
    "La funció ha de classificar el resultat en les seves respectives categories"
   ]
  },
  {
   "cell_type": "markdown",
   "metadata": {},
   "source": [
    "Primero: hago una función para calcular el IMC, con el peso y la altura en centímetros como argumentos.\n",
    "Luego hago la conversión de la altura a metros para poder calcular el IMC.\n",
    "Y clasifico los resultados en rangos según se estipula por su IMC.\n",
    "Para finalizar esta parte, llamo al resultado de la función, incluyendo un texto con f\"  \"\n",
    "Segundo: con input hago las preguntas que se van a almacenar en variables numericas del peso y la altura\n",
    "Para que, con try, y si sale correctamente da el resltado de la función calculo_imc\n",
    "y si no es correcto, con except indica que se introcuzcan números."
   ]
  },
  {
   "cell_type": "code",
   "execution_count": 8,
   "metadata": {},
   "outputs": [
    {
     "name": "stdout",
     "output_type": "stream",
     "text": [
      "Tienes un IMC de 24.69. Tu condición es de: peso normal.\n"
     ]
    }
   ],
   "source": [
    "\n",
    "def calculo_imc(peso, altura_cm):\n",
    "    altura_m = altura_cm / 100\n",
    "    IMC = round(peso / (altura_m **2),2)\n",
    "\n",
    "    if IMC < 18.5:\n",
    "        rango = \"bajo peso\"\n",
    "    elif IMC < 25:\n",
    "        rango = \"peso normal\"\n",
    "    elif IMC < 30:\n",
    "        rango = \"tienes sobrepeso\"\n",
    "    else:\n",
    "        rango = \"eres obeso\"\n",
    "\n",
    "    return f\"Tienes un IMC de {IMC}. Tu condición es de: {rango}.\"\n",
    "\n",
    "try:\n",
    "    peso = float(input(\"¿Cual es tu peso en quilogramos?\"))\n",
    "    altura_cm = float(input(\"¿Cual es tu altura en centimeros\"))\n",
    "    \n",
    "    resultado = calculo_imc(peso,altura_cm)\n",
    "    print(resultado)\n",
    "except ValueError:\n",
    "    print(\"Introduzca los datos con númeneros\")\n"
   ]
  },
  {
   "cell_type": "markdown",
   "metadata": {},
   "source": [
    "EXERCICI 2 Convertidor de temperatures.\n",
    "Existeixen diverses unitats de temperatura utilitzades en diferents contextos i regions. Les més comunes són Celsius (°C), Fahrenheit (°F) i Kelvin (K). També existeixen altres unitats com Rankine (°Ra) i Réaumur (°Re). Selecciona almenys 2 conversors, de tal manera que en introduir una temperatura retorni, com a mínim, dues conversions."
   ]
  },
  {
   "cell_type": "markdown",
   "metadata": {},
   "source": [
    "Voy a hacer la conversión de Celsius a Farenheit y a Kelvin. \n",
    "Primero, con input pido los grados centígrados (nombre común de la escala Celsius).\n",
    "Luego calculo el valor en farenheit y en kelvin en 2 variables, para luego dar el resultado\n",
    "entre un texto con f\"  \" de los tres valores de temperatura.\n",
    "Esta primera parte va dentro de un try: por si da error, para que se avise con except\n"
   ]
  },
  {
   "cell_type": "code",
   "execution_count": 12,
   "metadata": {},
   "outputs": [
    {
     "name": "stdout",
     "output_type": "stream",
     "text": [
      "45.0 ºC son:\n",
      "113.0 grados ºF\n",
      "318.15 grados ºK\n"
     ]
    }
   ],
   "source": [
    "try:\n",
    "    Celsius = float(input(\"Indica la tempreatura en centigrados (ºC):\"))\n",
    "    Farenheit = round((Celsius*1.8)+32,2)\n",
    "    Kelvin = round(Celsius + 273.15,2)\n",
    "    print(f\"{Celsius} ºC son:\")\n",
    "    print(f\"{Farenheit} grados ºF\")\n",
    "    print(f\"{Kelvin} grados ºK\")\n",
    "except ValueError:\n",
    "    print(\"Introduzca los datos con númeneros\")"
   ]
  },
  {
   "cell_type": "markdown",
   "metadata": {},
   "source": [
    "EXERCICI 3: Comptador de paraules d'un text.\n",
    "Escriu una funció que donat un text, mostri les vegades que apareix cada paraula."
   ]
  },
  {
   "cell_type": "markdown",
   "metadata": {},
   "source": [
    "Primero definimos la función para contar las palabras con def, y pedimos el texto que vamos\n",
    "a contar y lo mostramos con un print.\n",
    "Ahora dividimos el texto en palabras con .split() y creamos un dicionario donde guardaremos\n",
    "estas palabras.\n",
    "Usamos una función de bucle for para releer la cadena de palabras ya separadas, y contar las palabras con\n",
    "la condicions if  else para ver si están repetidas (+=1) o no (=1). El resultado de la función for se \n",
    "gurdará en el diccionario Palabras. \n",
    "Para finalizar imprimimos la función."
   ]
  },
  {
   "cell_type": "code",
   "execution_count": 12,
   "metadata": {},
   "outputs": [
    {
     "name": "stdout",
     "output_type": "stream",
     "text": [
      "El texto que ha escrito es: La casa azul es muy bonita, pero la casa rosa me gusta mucho más. Entonces que casa compramos?\n",
      "Listado de palabras y recuento: {'la': 2, 'casa': 3, 'azul': 1, 'es': 1, 'muy': 1, 'bonita': 1, 'pero': 1, 'rosa': 1, 'me': 1, 'gusta': 1, 'mucho': 1, 'más': 1, 'entonces': 1, 'que': 1, 'compramos': 1}\n"
     ]
    }
   ],
   "source": [
    "def contar_palabras():\n",
    "    Texto = input(\"Escribe aquí el texto: \")\n",
    "    print(f\"El texto que ha escrito es: {Texto}\")\n",
    "\n",
    "    num_palabras = Texto.split()\n",
    "    Palabras = {}\n",
    "\n",
    "    for minusculas in num_palabras:\n",
    "        minusculas = minusculas.strip(\",.;:!?\").lower()\n",
    "\n",
    "        if minusculas in Palabras:\n",
    "            Palabras[minusculas] += 1\n",
    "        else:\n",
    "            Palabras[minusculas] = 1\n",
    "    return Palabras\n",
    "\n",
    "print(\"Listado de palabras y recuento:\", contar_palabras())"
   ]
  },
  {
   "cell_type": "markdown",
   "metadata": {},
   "source": [
    "Exercici 4: Diccionari invers.\n",
    "Resulta que el client té una enquesta molt antiga que s'emmagatzema en un diccionari i els resultats els necessita al revés, és a dir, intercanviats les claus i els valors. Els valors i claus en el diccionari original són únics; si aquest no és el cas, la funció hauria d'imprimir un missatge d'advertiment.\n"
   ]
  },
  {
   "cell_type": "markdown",
   "metadata": {},
   "source": [
    "Primero definimos la función para invertir la clave y el valor de un diccionario con la funcion def.\n",
    "Para ello primero se revisa si hay valores repetidos con for, y si hay valores repetidos, da el mensaje de \"Error:\n",
    "Muchas claves para un valor\". Si no está repetido se almacena en el diccionario nuevos_datos, considerando ahora \n",
    "el valor como la clave (por eso la importancia de que no esté repetida).\n",
    "Probamos con diccionario_antiguo que no tiene valores repetidos para ver que funciona.\n",
    "Y probamos con diccionario_duplicado que tiene valores duplicados, y nos da el error indicado, y no nos devuelve el \n",
    "diccionario."
   ]
  },
  {
   "cell_type": "code",
   "execution_count": 42,
   "metadata": {},
   "outputs": [
    {
     "name": "stdout",
     "output_type": "stream",
     "text": [
      "{1: 'a', 2: 'b', 3: 'c'}\n",
      "Error: Muchas claves para un valor\n",
      "None\n"
     ]
    }
   ],
   "source": [
    "def diccionario_inv(n):\n",
    "    nuevos_datos = {}\n",
    "    for clave, valor in n.items():\n",
    "        if valor in nuevos_datos:\n",
    "            print(\"Error: Muchas claves para un valor\")\n",
    "            return\n",
    "        nuevos_datos[valor] = clave\n",
    "    return nuevos_datos\n",
    "      \n",
    "diccionario_antiguo = {\"a\":1, \"b\":2, \"c\":3}\n",
    "resultado1 = diccionario_inv(diccionario_antiguo)\n",
    "print(resultado1)\n",
    "\n",
    "diccionario_duplicado = {\"x\":\"apple\", \"y\":\"banana\", \"z\":\"banana\"}\n",
    "resultado2 = diccionario_inv(diccionario_duplicado)\n",
    "print(resultado2)\n"
   ]
  }
 ],
 "metadata": {
  "kernelspec": {
   "display_name": "Python 3",
   "language": "python",
   "name": "python3"
  },
  "language_info": {
   "codemirror_mode": {
    "name": "ipython",
    "version": 3
   },
   "file_extension": ".py",
   "mimetype": "text/x-python",
   "name": "python",
   "nbconvert_exporter": "python",
   "pygments_lexer": "ipython3",
   "version": "3.12.5"
  }
 },
 "nbformat": 4,
 "nbformat_minor": 2
}
